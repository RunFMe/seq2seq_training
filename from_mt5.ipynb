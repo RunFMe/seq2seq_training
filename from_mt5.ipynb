{
 "cells": [
  {
   "cell_type": "markdown",
   "id": "1a62d887-01aa-4980-9220-3bf28c077504",
   "metadata": {},
   "source": [
    "### Домашнее задание Transformers Training (50 баллов)"
   ]
  },
  {
   "cell_type": "markdown",
   "id": "f31d7452-febe-4d25-a9c1-005fcc26b35b",
   "metadata": {},
   "source": [
    "В этом домашнем задании требуется обучить несколько Transformer-based моделей в задаче машинного перевода. Для обучения можно воспользоваться текущим проектом, так и реализовать свой пайплайн обучения. Если будете использовать проект, теги **TODO** проекта отмечают, какие компоненты надо реализовать.\n",
    "В ноутбуке нужно только отобразить результаты обучения и выводы. Архитектура модели(количетсво слоев, размерность и тд) остается на ваш выбор.\n",
    "\n",
    "Ваш код обучения нужно выложить на ваш github, в строке ниже дать ссылку на него. В первую очередь будут оцениваться результаты в ноутбуке, код нужен для проверки адекватности результатов. \n",
    "\n",
    "Обучать модели до конца не нужно, только для демонстрации, что модель обучается и рабочая - снижение val_loss, рост bleu_score."
   ]
  },
  {
   "cell_type": "markdown",
   "id": "dbca1e62-b210-4426-9854-55b652417a4b",
   "metadata": {},
   "source": [
    "### Данные\n",
    "\n",
    "`\n",
    "wget https://www.manythings.org/anki/rus-eng.zip && unzip rus-eng.zip\n",
    "`\n",
    "\n",
    "Модели нужно обучить на задаче перевода с английского на русский. "
   ]
  },
  {
   "cell_type": "markdown",
   "id": "a691e7b9-6538-42b1-96b8-838f2efab4af",
   "metadata": {},
   "source": [
    "#### Сcылка на ваш github с проектом(вставить свой) - https://github.com/runnerup96/pytorch-machine-translation\n",
    "\n",
    "Ноутбук с результатами выкладывать на ваш **google диск** курса. "
   ]
  },
  {
   "cell_type": "code",
   "execution_count": 1,
   "id": "62fe8063",
   "metadata": {},
   "outputs": [],
   "source": [
    "# !wget https://www.manythings.org/anki/rus-eng.zip && unzip rus-eng.zip"
   ]
  },
  {
   "cell_type": "code",
   "execution_count": 7,
   "id": "710e84de-f7a4-46da-a611-74c90a67e24b",
   "metadata": {},
   "outputs": [
    {
     "ename": "ImportError",
     "evalue": "cannot import name 'get_dataset' from 'data' (/home/jovyan/runfme/triton/translate/data.py)",
     "output_type": "error",
     "traceback": [
      "\u001b[0;31m---------------------------------------------------------------------------\u001b[0m",
      "\u001b[0;31mImportError\u001b[0m                               Traceback (most recent call last)",
      "Cell \u001b[0;32mIn[7], line 1\u001b[0m\n\u001b[0;32m----> 1\u001b[0m \u001b[38;5;28;01mfrom\u001b[39;00m \u001b[38;5;21;01mdata\u001b[39;00m \u001b[38;5;28;01mimport\u001b[39;00m get_dataset, get_tokenizer,compute_metrics, preprocess_function, DatasetConfig\n",
      "\u001b[0;31mImportError\u001b[0m: cannot import name 'get_dataset' from 'data' (/home/jovyan/runfme/triton/translate/data.py)"
     ]
    }
   ],
   "source": [
    "from datamanip import get_dataset, get_tokenizer,compute_metrics, preprocess_function, DatasetConfig"
   ]
  },
  {
   "cell_type": "code",
   "execution_count": null,
   "id": "c8dd6d61",
   "metadata": {},
   "outputs": [],
   "source": []
  },
  {
   "cell_type": "markdown",
   "id": "3095ef51",
   "metadata": {},
   "source": [
    "# Файнтюн т5\n",
    "результаты: https://api.wandb.ai/links/runfme/ktxhl153"
   ]
  },
  {
   "cell_type": "code",
   "execution_count": 3,
   "id": "a0c70106",
   "metadata": {},
   "outputs": [
    {
     "name": "stderr",
     "output_type": "stream",
     "text": [
      "You are using the default legacy behaviour of the <class 'transformers.models.t5.tokenization_t5.T5Tokenizer'>. This is expected, and simply means that the `legacy` (previous) behavior will be used so nothing changes for you. If you want to use the new behaviour, set `legacy=False`. This should only be set if you understand what it means, and thoroughly read the reason why this was added as explained in https://github.com/huggingface/transformers/pull/24565\n",
      "/home/user/conda/envs/runfme_default/lib/python3.11/site-packages/transformers/convert_slow_tokenizer.py:550: UserWarning: The sentencepiece tokenizer that you are converting to a fast tokenizer uses the byte fallback option which is not implemented in the fast tokenizers. In practice this means that the fast version of the tokenizer can produce unknown tokens whereas the sentencepiece version would have converted these unknown tokens into a sequence of byte tokens matching the original piece of text.\n",
      "  warnings.warn(\n",
      "Map:   0%|          | 0/312726 [00:00<?, ? examples/s]/home/user/conda/envs/runfme_default/lib/python3.11/site-packages/transformers/tokenization_utils_base.py:3935: UserWarning: `as_target_tokenizer` is deprecated and will be removed in v5 of Transformers. You can tokenize your labels by using the argument `text_target` of the regular `__call__` method (either in the same call as your input texts if you use the same keyword arguments, or in a separate call.\n",
      "  warnings.warn(\n",
      "Map: 100%|██████████| 312726/312726 [00:10<00:00, 29810.66 examples/s]\n",
      "Map: 100%|██████████| 9672/9672 [00:00<00:00, 23859.04 examples/s]\n"
     ]
    }
   ],
   "source": [
    "from omegaconf import OmegaConf\n",
    "from transformers import DataCollatorForSeq2Seq\n",
    "\n",
    "conf = OmegaConf.load('./cfg_tune_t5.yaml')\n",
    "dataset_cfg = OmegaConf.structured(DatasetConfig(**conf['dataset']))\n",
    "model_cfg = OmegaConf.structured(ModelConfig(**conf['model']))\n",
    "\n",
    "tokenizer = get_tokenizer(dataset_cfg)\n",
    "\n",
    "dataset = get_dataset(dataset_cfg)\n",
    "dataset = dataset.train_test_split(test_size=0.03)\n",
    "tokenized_dataset = dataset.map(preprocess_function, batched=True)\n",
    "\n",
    "model = get_model(model_cfg)\n",
    "data_collator = DataCollatorForSeq2Seq(tokenizer=tokenizer, model=model)"
   ]
  },
  {
   "cell_type": "code",
   "execution_count": 10,
   "id": "6424327c",
   "metadata": {},
   "outputs": [
    {
     "data": {
      "text/html": [
       "Tracking run with wandb version 0.17.0"
      ],
      "text/plain": [
       "<IPython.core.display.HTML object>"
      ]
     },
     "metadata": {},
     "output_type": "display_data"
    },
    {
     "data": {
      "text/html": [
       "Run data is saved locally in <code>/home/jovyan/runfme/triton/translate/wandb/run-20240508_170708-rxolzp99</code>"
      ],
      "text/plain": [
       "<IPython.core.display.HTML object>"
      ]
     },
     "metadata": {},
     "output_type": "display_data"
    },
    {
     "data": {
      "text/html": [
       "Syncing run <strong><a href='https://wandb.ai/runfme/uncategorized/runs/rxolzp99' target=\"_blank\">vital-silence-182</a></strong> to <a href='https://wandb.ai/runfme/uncategorized' target=\"_blank\">Weights & Biases</a> (<a href='https://wandb.me/run' target=\"_blank\">docs</a>)<br/>"
      ],
      "text/plain": [
       "<IPython.core.display.HTML object>"
      ]
     },
     "metadata": {},
     "output_type": "display_data"
    },
    {
     "data": {
      "text/html": [
       " View project at <a href='https://wandb.ai/runfme/uncategorized' target=\"_blank\">https://wandb.ai/runfme/uncategorized</a>"
      ],
      "text/plain": [
       "<IPython.core.display.HTML object>"
      ]
     },
     "metadata": {},
     "output_type": "display_data"
    },
    {
     "data": {
      "text/html": [
       " View run at <a href='https://wandb.ai/runfme/uncategorized/runs/rxolzp99' target=\"_blank\">https://wandb.ai/runfme/uncategorized/runs/rxolzp99</a>"
      ],
      "text/plain": [
       "<IPython.core.display.HTML object>"
      ]
     },
     "metadata": {},
     "output_type": "display_data"
    },
    {
     "name": "stderr",
     "output_type": "stream",
     "text": [
      "/home/user/conda/envs/runfme_default/lib/python3.11/site-packages/accelerate/accelerator.py:436: FutureWarning: Passing the following arguments to `Accelerator` is deprecated and will be removed in version 1.0 of Accelerate: dict_keys(['dispatch_batches', 'split_batches', 'even_batches', 'use_seedable_sampler']). Please pass an `accelerate.DataLoaderConfiguration` instead: \n",
      "dataloader_config = DataLoaderConfiguration(dispatch_batches=None, split_batches=False, even_batches=True, use_seedable_sampler=True)\n",
      "  warnings.warn(\n"
     ]
    },
    {
     "data": {
      "text/html": [
       "\n",
       "    <div>\n",
       "      \n",
       "      <progress value='3000' max='3000' style='width:300px; height:20px; vertical-align: middle;'></progress>\n",
       "      [3000/3000 30:59, Epoch 1/2]\n",
       "    </div>\n",
       "    <table border=\"1\" class=\"dataframe\">\n",
       "  <thead>\n",
       " <tr style=\"text-align: left;\">\n",
       "      <th>Step</th>\n",
       "      <th>Training Loss</th>\n",
       "      <th>Validation Loss</th>\n",
       "      <th>Bleu</th>\n",
       "    </tr>\n",
       "  </thead>\n",
       "  <tbody>\n",
       "    <tr>\n",
       "      <td>500</td>\n",
       "      <td>1.645000</td>\n",
       "      <td>1.167628</td>\n",
       "      <td>28.093765</td>\n",
       "    </tr>\n",
       "    <tr>\n",
       "      <td>1000</td>\n",
       "      <td>1.358500</td>\n",
       "      <td>0.985108</td>\n",
       "      <td>34.808586</td>\n",
       "    </tr>\n",
       "    <tr>\n",
       "      <td>1500</td>\n",
       "      <td>1.167300</td>\n",
       "      <td>0.892684</td>\n",
       "      <td>37.879124</td>\n",
       "    </tr>\n",
       "    <tr>\n",
       "      <td>2000</td>\n",
       "      <td>1.101900</td>\n",
       "      <td>0.856037</td>\n",
       "      <td>39.683768</td>\n",
       "    </tr>\n",
       "    <tr>\n",
       "      <td>2500</td>\n",
       "      <td>1.066800</td>\n",
       "      <td>0.833254</td>\n",
       "      <td>40.442491</td>\n",
       "    </tr>\n",
       "    <tr>\n",
       "      <td>3000</td>\n",
       "      <td>1.101500</td>\n",
       "      <td>0.830280</td>\n",
       "      <td>40.460239</td>\n",
       "    </tr>\n",
       "  </tbody>\n",
       "</table><p>"
      ],
      "text/plain": [
       "<IPython.core.display.HTML object>"
      ]
     },
     "metadata": {},
     "output_type": "display_data"
    },
    {
     "name": "stdout",
     "output_type": "stream",
     "text": [
      "[[    0 33944   315 ...  -100  -100  -100]\n",
      " [    0 33944 76313 ...  -100  -100  -100]\n",
      " [    0  2553   401 ...  -100  -100  -100]\n",
      " ...\n",
      " [    0  5778   279 ...  -100  -100  -100]\n",
      " [    0  2553 37641 ...  -100  -100  -100]\n",
      " [    0 30326  1211 ...  -100  -100  -100]] [[33944   315 32435 ...  -100  -100  -100]\n",
      " [33944 76313 17714 ...  -100  -100  -100]\n",
      " [ 2553   401   259 ...  -100  -100  -100]\n",
      " ...\n",
      " [ 5778   279 24193 ...  -100  -100  -100]\n",
      " [14152   396 37641 ...  -100  -100  -100]\n",
      " [30326   279  3748 ...  -100  -100  -100]]\n",
      "[[    0 33944   315 ...  -100  -100  -100]\n",
      " [    0 33944 76313 ...  -100  -100  -100]\n",
      " [    0  2553   401 ...  -100  -100  -100]\n",
      " ...\n",
      " [    0  5778   279 ...  -100  -100  -100]\n",
      " [    0  2553 37641 ...  -100  -100  -100]\n",
      " [    0 30326  1211 ...  -100  -100  -100]] [[33944   315 32435 ...  -100  -100  -100]\n",
      " [33944 76313 17714 ...  -100  -100  -100]\n",
      " [ 2553   401   259 ...  -100  -100  -100]\n",
      " ...\n",
      " [ 5778   279 24193 ...  -100  -100  -100]\n",
      " [14152   396 37641 ...  -100  -100  -100]\n",
      " [30326   279  3748 ...  -100  -100  -100]]\n",
      "[[    0 33944   923 ...  -100  -100  -100]\n",
      " [    0 33944 76313 ...  -100  -100  -100]\n",
      " [    0  2553   401 ...  -100  -100  -100]\n",
      " ...\n",
      " [    0  5778   279 ...  -100  -100  -100]\n",
      " [    0  2553 37641 ...  -100  -100  -100]\n",
      " [    0 30326   279 ...  -100  -100  -100]] [[33944   315 32435 ...  -100  -100  -100]\n",
      " [33944 76313 17714 ...  -100  -100  -100]\n",
      " [ 2553   401   259 ...  -100  -100  -100]\n",
      " ...\n",
      " [ 5778   279 24193 ...  -100  -100  -100]\n",
      " [14152   396 37641 ...  -100  -100  -100]\n",
      " [30326   279  3748 ...  -100  -100  -100]]\n",
      "[[    0 33944   315 ...  -100  -100  -100]\n",
      " [    0 33944 76313 ...  -100  -100  -100]\n",
      " [    0  2553   401 ...  -100  -100  -100]\n",
      " ...\n",
      " [    0  5778   279 ...  -100  -100  -100]\n",
      " [    0  2553 37641 ...  -100  -100  -100]\n",
      " [    0 30326   279 ...  -100  -100  -100]] [[33944   315 32435 ...  -100  -100  -100]\n",
      " [33944 76313 17714 ...  -100  -100  -100]\n",
      " [ 2553   401   259 ...  -100  -100  -100]\n",
      " ...\n",
      " [ 5778   279 24193 ...  -100  -100  -100]\n",
      " [14152   396 37641 ...  -100  -100  -100]\n",
      " [30326   279  3748 ...  -100  -100  -100]]\n",
      "[[    0 33944   315 ...  -100  -100  -100]\n",
      " [    0 33944 76313 ...  -100  -100  -100]\n",
      " [    0  2553   401 ...  -100  -100  -100]\n",
      " ...\n",
      " [    0  5778   279 ...  -100  -100  -100]\n",
      " [    0  2553 37641 ...  -100  -100  -100]\n",
      " [    0 30326   279 ...  -100  -100  -100]] [[33944   315 32435 ...  -100  -100  -100]\n",
      " [33944 76313 17714 ...  -100  -100  -100]\n",
      " [ 2553   401   259 ...  -100  -100  -100]\n",
      " ...\n",
      " [ 5778   279 24193 ...  -100  -100  -100]\n",
      " [14152   396 37641 ...  -100  -100  -100]\n",
      " [30326   279  3748 ...  -100  -100  -100]]\n",
      "[[    0 33944   315 ...  -100  -100  -100]\n",
      " [    0 33944 76313 ...  -100  -100  -100]\n",
      " [    0  2553   401 ...  -100  -100  -100]\n",
      " ...\n",
      " [    0  5778   279 ...  -100  -100  -100]\n",
      " [    0  2553 37641 ...  -100  -100  -100]\n",
      " [    0 30326   279 ...  -100  -100  -100]] [[33944   315 32435 ...  -100  -100  -100]\n",
      " [33944 76313 17714 ...  -100  -100  -100]\n",
      " [ 2553   401   259 ...  -100  -100  -100]\n",
      " ...\n",
      " [ 5778   279 24193 ...  -100  -100  -100]\n",
      " [14152   396 37641 ...  -100  -100  -100]\n",
      " [30326   279  3748 ...  -100  -100  -100]]\n"
     ]
    },
    {
     "name": "stderr",
     "output_type": "stream",
     "text": [
      "There were missing keys in the checkpoint model loaded: ['encoder.embed_tokens.weight', 'decoder.embed_tokens.weight'].\n"
     ]
    },
    {
     "data": {
      "text/plain": [
       "TrainOutput(global_step=3000, training_loss=1.8637264870802561, metrics={'train_runtime': 1860.3313, 'train_samples_per_second': 258.019, 'train_steps_per_second': 1.613, 'total_flos': 9966433904824320.0, 'train_loss': 1.8637264870802561, 'epoch': 1.53})"
      ]
     },
     "execution_count": 10,
     "metadata": {},
     "output_type": "execute_result"
    }
   ],
   "source": [
    "from transformers import AutoModelForSeq2SeqLM, Seq2SeqTrainingArguments, Seq2SeqTrainer\n",
    "import wandb\n",
    "\n",
    "import os\n",
    "os.environ[\"WANDB_API_KEY\"]= '844ae81dd9f3dac384cf5cdb478d4e939ed71fa1'\n",
    "wandb.init()\n",
    "training_args = Seq2SeqTrainingArguments(\n",
    "    output_dir=\"./results_tune-t5\",\n",
    "    evaluation_strategy=\"steps\",\n",
    "    eval_steps=500,\n",
    "    learning_rate=0.0005,\n",
    "    lr_scheduler_type='cosine',\n",
    "    warmup_steps=200,\n",
    "    per_device_train_batch_size=80,\n",
    "    per_device_eval_batch_size=80,\n",
    "    weight_decay=0.00,\n",
    "    save_total_limit=3,\n",
    "    max_steps=3000,\n",
    "    report_to=\"wandb\",\n",
    "    predict_with_generate = True,\n",
    "    generation_max_length=30,\n",
    "    fp16=False,\n",
    "    load_best_model_at_end=True,\n",
    "    greater_is_better=True,\n",
    "    metric_for_best_model=\"bleu\",\n",
    "    gradient_accumulation_steps=2,\n",
    "    logging_steps=2,\n",
    "    logging_nan_inf_filter=False\n",
    ")\n",
    "\n",
    "trainer = Seq2SeqTrainer(\n",
    "    model=model,\n",
    "    args=training_args,\n",
    "    train_dataset=tokenized_dataset[\"train\"],\n",
    "    eval_dataset=tokenized_dataset[\"test\"],\n",
    "    tokenizer=tokenizer,\n",
    "    data_collator=data_collator,\n",
    "    compute_metrics=compute_metrics,\n",
    ")\n",
    "\n",
    "trainer.train()"
   ]
  },
  {
   "cell_type": "code",
   "execution_count": 16,
   "id": "9a412d6a",
   "metadata": {},
   "outputs": [
    {
     "name": "stderr",
     "output_type": "stream",
     "text": [
      "/home/user/conda/envs/runfme_default/lib/python3.11/site-packages/transformers/generation/configuration_utils.py:535: UserWarning: `num_beams` is set to 1. However, `early_stopping` is set to `True` -- this flag is only used in beam-based generation modes. You should set `num_beams>1` or unset `early_stopping`.\n",
      "  warnings.warn(\n"
     ]
    },
    {
     "name": "stdout",
     "output_type": "stream",
     "text": [
      "Eng: We can't work without electricity.\n",
      "Reference: Мы не можем работать без электричества.\n",
      "Predicted: Мы не можем работать без электричества.\n",
      "Eng: I didn't know Tom liked jazz.\n",
      "Reference: Я не знал, что Том любит джаз.\n",
      "Predicted: Я не знал, что Тому нравится рок.\n",
      "Eng: I have lost the key.\n",
      "Reference: Я ключ потерял.\n",
      "Predicted: Я потерял ключ.\n",
      "Eng: Tom had heard nothing about the accident.\n",
      "Reference: Том ничего не слышал об аварии.\n",
      "Predicted: Том ничего не слышал о аварии.\n",
      "Eng: What's your favorite tree?\n",
      "Reference: Какое у тебя любимое дерево?\n",
      "Predicted: Какой у тебя любимый деревь?\n",
      "Eng: Tom did this.\n",
      "Reference: Том это сделал.\n",
      "Predicted: Том это сделал.\n",
      "Eng: Why do you love Tom?\n",
      "Reference: Почему вы любите Тома?\n",
      "Predicted: Почему вы любите Тома?\n",
      "Eng: That's what happens when one tells the truth.\n",
      "Reference: Вот что бывает, когда говоришь правду.\n",
      "Predicted: Это что происходит, когда одна говорит правду.\n",
      "Eng: Where did you buy these towels?\n",
      "Reference: Где вы купили эти полотенца?\n",
      "Predicted: Где вы купили эти полотенца?\n",
      "Eng: Tom put milk in his coffee.\n",
      "Reference: Том налил себе в кофе молока.\n",
      "Predicted: Том поставил молоко в кофе.\n"
     ]
    }
   ],
   "source": [
    "model = AutoModelForSeq2SeqLM.from_pretrained('./results_tune-t5/checkpoint-3000').cuda()\n",
    "\n",
    "for i in dataset['test'].select(range(10)):\n",
    "    source, target = i['source'], i['target']\n",
    "    inputs = tokenizer(\n",
    "        source,\n",
    "        return_tensors='pt',\n",
    "        max_length=256,\n",
    "        truncation=True\n",
    "    )\n",
    "\n",
    "    # Get correct sentence ids.\n",
    "    corrected_ids = model.generate(\n",
    "        inputs.input_ids.cuda(),\n",
    "        max_length=256,\n",
    "        num_beams=1, # `num_beams=1` indicated temperature sampling.\n",
    "        early_stopping=True\n",
    "    )\n",
    "\n",
    "    # Decode.\n",
    "    res = tokenizer.decode(\n",
    "        corrected_ids[0],\n",
    "        skip_special_tokens=True\n",
    "    )\n",
    "    print(f'Eng: {source}')\n",
    "    print(f'Reference: {target}')\n",
    "    print(f'Predicted: {res}')"
   ]
  },
  {
   "cell_type": "markdown",
   "id": "cc772a6e-7d1a-4d8d-8024-0454a948835b",
   "metadata": {
    "tags": []
   },
   "source": [
    "### Обучение Seq2seq Transformer модель(25 баллов)\n",
    "\n",
    "Реализуйте Seq2seq Transformer. В качестве блока трансформера можно использовать https://pytorch.org/docs/stable/generated/torch.nn.Transformer.html. В качестве токенизатора воспользуйтесь HuggingFace токенизатор для source/target языков - https://huggingface.co/docs/transformers/fast_tokenizers\n",
    "В качестве максимальной длинны возьмите предложения длинной **до 15 слов**, без каких либо префиксов. \n",
    "\n",
    "Не забудьте остальные элементы модели:\n",
    "* Мы можем использовать 1 трансформер как энкодер - декодером будет выступать линейный слой. \n",
    "* Обучите свой BPE токенизатор - https://huggingface.co/docs/transformers/fast_tokenizers\n",
    "* Матрицу эмбеддингов токенов\n",
    "* Матрицу позицонных эмбеддингов\n",
    "* Линейный слой проекции в target словарь\n",
    "* Функцию маскирования будущих состояний attention, так как модель авто-регрессионна\n",
    "* Learning rate schedualer\n",
    "\n",
    "\n",
    "В качестве результатов, приложите слудующие данные:\n",
    "1) Параметры обучения - learning rate, batch_size, epoch_num, размерность скрытого слоя, количетсво слоев\n",
    "2) Графики обучения - train loss, val loss, bleu score\n",
    "3) Примеры переводов вашей модели(10 штук) - source text, true target text, predicted target text"
   ]
  }
 ],
 "metadata": {
  "kernelspec": {
   "display_name": "Python 3 (ipykernel)",
   "language": "python",
   "name": "python3"
  },
  "language_info": {
   "codemirror_mode": {
    "name": "ipython",
    "version": 3
   },
   "file_extension": ".py",
   "mimetype": "text/x-python",
   "name": "python",
   "nbconvert_exporter": "python",
   "pygments_lexer": "ipython3",
   "version": "3.11.8"
  }
 },
 "nbformat": 4,
 "nbformat_minor": 5
}
